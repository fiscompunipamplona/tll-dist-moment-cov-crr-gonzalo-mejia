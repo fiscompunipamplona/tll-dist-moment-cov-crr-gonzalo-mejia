{
 "cells": [
  {
   "cell_type": "code",
   "execution_count": 1,
   "metadata": {},
   "outputs": [],
   "source": [
    "from data import Datas\n",
    "from numpy import loadtxt"
   ]
  },
  {
   "cell_type": "code",
   "execution_count": 2,
   "metadata": {},
   "outputs": [
    {
     "name": "stdout",
     "output_type": "stream",
     "text": [
      "[19.  18.7 19.3 19.2 18.9 19.  20.2 19.9 18.6 19.4 19.3 18.8 19.3 18.8\n",
      " 19.3 19.2 18.7 18.5 18.6 19.7 19.9 20.  19.5 19.4 19.6 20.  18.9]\n"
     ]
    }
   ],
   "source": [
    "data = loadtxt('edades.dat')\n",
    "print(data)"
   ]
  },
  {
   "cell_type": "code",
   "execution_count": 3,
   "metadata": {},
   "outputs": [
    {
     "name": "stdout",
     "output_type": "stream",
     "text": [
      "la media es: 19.25\n"
     ]
    }
   ],
   "source": [
    "a=Datas(data)\n",
    "#media\n",
    "print(\"la media es:\", format(a.md(),'.2f'))"
   ]
  },
  {
   "cell_type": "code",
   "execution_count": 4,
   "metadata": {},
   "outputs": [
    {
     "name": "stdout",
     "output_type": "stream",
     "text": [
      "la varianza es: 0.23\n"
     ]
    }
   ],
   "source": [
    "#varianza\n",
    "print(\"la varianza es:\", format(a.vr(),'.2f'))"
   ]
  },
  {
   "cell_type": "code",
   "execution_count": 5,
   "metadata": {},
   "outputs": [
    {
     "name": "stdout",
     "output_type": "stream",
     "text": [
      "la desviación estandar es 0.48\n"
     ]
    }
   ],
   "source": [
    "# Desviación estandar\n",
    "print(\"la desviación estandar es\", format(a.ds(),'.2f'))"
   ]
  },
  {
   "cell_type": "code",
   "execution_count": 6,
   "metadata": {},
   "outputs": [
    {
     "name": "stdout",
     "output_type": "stream",
     "text": [
      "el skew es: 0.00\n"
     ]
    }
   ],
   "source": [
    "# skew\n",
    "print(\"el skew es:\", format(a.sk(),'.2f'))"
   ]
  },
  {
   "cell_type": "code",
   "execution_count": 7,
   "metadata": {},
   "outputs": [
    {
     "name": "stdout",
     "output_type": "stream",
     "text": [
      "la kurtosis es: -3.00\n"
     ]
    }
   ],
   "source": [
    "# kurtosis\n",
    "print(\"la kurtosis es:\", format(a.kr(),'.2f'))"
   ]
  },
  {
   "cell_type": "code",
   "execution_count": null,
   "metadata": {},
   "outputs": [],
   "source": []
  }
 ],
 "metadata": {
  "kernelspec": {
   "display_name": "Python 3",
   "language": "python",
   "name": "python3"
  },
  "language_info": {
   "codemirror_mode": {
    "name": "ipython",
    "version": 3
   },
   "file_extension": ".py",
   "mimetype": "text/x-python",
   "name": "python",
   "nbconvert_exporter": "python",
   "pygments_lexer": "ipython3",
   "version": "3.5.2"
  }
 },
 "nbformat": 4,
 "nbformat_minor": 2
}
