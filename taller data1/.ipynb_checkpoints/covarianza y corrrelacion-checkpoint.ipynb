{
 "cells": [
  {
   "cell_type": "code",
   "execution_count": 1,
   "metadata": {},
   "outputs": [],
   "source": [
    "from data1 import Datas1\n",
    "from numpy import*"
   ]
  },
  {
   "cell_type": "markdown",
   "metadata": {},
   "source": [
    "En el siguien codigo calculamos la covarianza y la correlación para dos variables."
   ]
  },
  {
   "cell_type": "code",
   "execution_count": 2,
   "metadata": {},
   "outputs": [
    {
     "name": "stdout",
     "output_type": "stream",
     "text": [
      "[[22. 63.]\n",
      " [48. 39.]\n",
      " [76. 61.]\n",
      " [10. 30.]\n",
      " [22. 51.]\n",
      " [ 4. 44.]\n",
      " [68. 74.]\n",
      " [44. 78.]\n",
      " [10. 55.]\n",
      " [76. 58.]\n",
      " [14. 41.]\n",
      " [56. 69.]]\n"
     ]
    }
   ],
   "source": [
    "data = loadtxt('dataClassQuan.dat')#extraer datos\n",
    "print(data)"
   ]
  },
  {
   "cell_type": "code",
   "execution_count": 4,
   "metadata": {},
   "outputs": [
    {
     "name": "stdout",
     "output_type": "stream",
     "text": [
      "la media clasica es: 37.5\n",
      "la media cuantica es: 55.25\n",
      "la covarianza es: 207.45833333333348\n",
      "la correlación es: 0.5180672076633754\n"
     ]
    }
   ],
   "source": [
    "a=Datas1(data[:,0])\n",
    "b=Datas1(data[:,1])\n",
    "c=Datas1(data)\n",
    "\n",
    "print(\"la media clasica es:\", a.md())\n",
    "print(\"la media cuantica es:\", b.md())\n",
    "print(\"la covarianza es:\", c.cv())\n",
    "print(\"la correlación es:\", c.cr())"
   ]
  },
  {
   "cell_type": "markdown",
   "metadata": {},
   "source": [
    "De los datos podemos observar que como la covarianza nos dio positiva, lo cual nos indica que los dos datos tienen una relación directa, es decir ambos crecen simultáneamente. Por otro lado podemos observar de la correlación que las variables tienen una correlación positiva es decir, tienen una relación fuerte entre ellas, pero no hay una dependencia total."
   ]
  },
  {
   "cell_type": "code",
   "execution_count": null,
   "metadata": {},
   "outputs": [],
   "source": []
  }
 ],
 "metadata": {
  "kernelspec": {
   "display_name": "Python 3",
   "language": "python",
   "name": "python3"
  },
  "language_info": {
   "codemirror_mode": {
    "name": "ipython",
    "version": 3
   },
   "file_extension": ".py",
   "mimetype": "text/x-python",
   "name": "python",
   "nbconvert_exporter": "python",
   "pygments_lexer": "ipython3",
   "version": "3.5.2"
  }
 },
 "nbformat": 4,
 "nbformat_minor": 2
}
